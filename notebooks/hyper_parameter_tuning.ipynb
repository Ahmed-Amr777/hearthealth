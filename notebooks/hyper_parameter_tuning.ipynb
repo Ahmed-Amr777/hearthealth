{
 "cells": [
  {
   "cell_type": "code",
   "execution_count": 1,
   "metadata": {},
   "outputs": [],
   "source": [
    "import pandas as pd\n",
    "import numpy as np\n",
    "import matplotlib.pyplot as plt"
   ]
  },
  {
   "cell_type": "code",
   "execution_count": 192,
   "metadata": {},
   "outputs": [
    {
     "data": {
      "text/plain": [
       "target\n",
       "0    123\n",
       "1     99\n",
       "Name: count, dtype: int64"
      ]
     },
     "execution_count": 192,
     "metadata": {},
     "output_type": "execute_result"
    }
   ],
   "source": [
    "##starting with logistic regression\n",
    "from sklearn.linear_model import LogisticRegression\n",
    "\n",
    "df=pd.read_csv(\"../data/Trained_selected_features.csv\")\n",
    "X_train=df.drop(\"target\",axis=1)\n",
    "y_train=df[\"target\"]\n",
    "y_train.value_counts()"
   ]
  },
  {
   "cell_type": "code",
   "execution_count": 193,
   "metadata": {},
   "outputs": [],
   "source": [
    "param_grid = {\n",
    "    'C': [0.01, 0.1, 1, 10, 100],         # regularization strength\n",
    "    'penalty': ['l1', 'l2'],              # type of penalty\n",
    "    'solver': ['liblinear', 'saga']       # solvers that support l1/l2\n",
    "}"
   ]
  },
  {
   "cell_type": "code",
   "execution_count": 194,
   "metadata": {},
   "outputs": [
    {
     "name": "stdout",
     "output_type": "stream",
     "text": [
      "{'C': 0.01, 'penalty': 'l2', 'solver': 'liblinear'}\n",
      "0.7573684210526316\n"
     ]
    }
   ],
   "source": [
    "from sklearn.model_selection import GridSearchCV\n",
    "from sklearn.linear_model import LogisticRegression\n",
    "from sklearn.model_selection import cross_validate\n",
    "\n",
    "log_reg = LogisticRegression(max_iter=1000)\n",
    "\n",
    "grid = GridSearchCV(\n",
    "    estimator=log_reg,\n",
    "    param_grid=param_grid,\n",
    "    scoring='recall',       \n",
    "    cv=5,\n",
    "    n_jobs=-1\n",
    ")\n",
    "\n",
    "grid.fit(X_train, y_train)\n",
    "print(grid.best_params_)\n",
    "print(grid.best_score_)"
   ]
  },
  {
   "cell_type": "code",
   "execution_count": 195,
   "metadata": {},
   "outputs": [
    {
     "name": "stdout",
     "output_type": "stream",
     "text": [
      "Mean Accuracy: 0.697979797979798\n",
      "Mean Precision: 0.6142328042328042\n",
      "Mean Recall: 0.8784210526315789\n",
      "Mean F1-Score: 0.7223072803589521\n"
     ]
    }
   ],
   "source": [
    "log_reg = LogisticRegression(max_iter=1000,C=0.01,penalty='l2',solver='liblinear',class_weight='balanced')\n",
    "\n",
    "# Evaluate multiple scoring metrics\n",
    "scoring = ['accuracy', 'precision', 'recall', 'f1']\n",
    "\n",
    "results = cross_validate(log_reg, X_train, y_train, cv=5, scoring=scoring)\n",
    "\n",
    "# Print average of each metric\n",
    "print(\"Mean Accuracy:\", results['test_accuracy'].mean())\n",
    "print(\"Mean Precision:\", results['test_precision'].mean())\n",
    "print(\"Mean Recall:\", results['test_recall'].mean())\n",
    "print(\"Mean F1-Score:\", results['test_f1'].mean())"
   ]
  },
  {
   "cell_type": "code",
   "execution_count": 196,
   "metadata": {},
   "outputs": [
    {
     "name": "stdout",
     "output_type": "stream",
     "text": [
      "Best Parameters: {'C': 0.008263688714158009, 'penalty': 'l2'}\n",
      "Best Recall Score: 0.7878947368421052\n"
     ]
    }
   ],
   "source": [
    "from sklearn.model_selection import RandomizedSearchCV\n",
    "from sklearn.linear_model import LogisticRegression\n",
    "from scipy.stats import loguniform  # for sampling float ranges\n",
    "\n",
    "log_reg = LogisticRegression(max_iter=1000, solver='liblinear')\n",
    "\n",
    "# Define the hyperparameter space\n",
    "param_dist = {\n",
    "    'C': loguniform(0.001, 100),  # random float between 0.001 and 100\n",
    "    'penalty': ['l1', 'l2']\n",
    "}\n",
    "\n",
    "# Set up randomized search\n",
    "random_search = RandomizedSearchCV(\n",
    "    estimator=log_reg,\n",
    "    param_distributions=param_dist,\n",
    "    n_iter=20,             \n",
    "    scoring='recall',\n",
    "    cv=5,\n",
    "    random_state=42,\n",
    "    n_jobs=-1\n",
    ")\n",
    "\n",
    "# Fit the model\n",
    "random_search.fit(X_train, y_train)\n",
    "\n",
    "# Results\n",
    "print(\"Best Parameters:\", random_search.best_params_)\n",
    "print(\"Best Recall Score:\", random_search.best_score_)"
   ]
  },
  {
   "cell_type": "code",
   "execution_count": 197,
   "metadata": {},
   "outputs": [
    {
     "name": "stdout",
     "output_type": "stream",
     "text": [
      "Mean Accuracy: 0.6932323232323233\n",
      "Mean Precision: 0.6272732919254658\n",
      "Mean Recall: 0.7878947368421052\n",
      "Mean F1-Score: 0.6973048645784916\n"
     ]
    }
   ],
   "source": [
    "log_reg = LogisticRegression(C= 0.008263688714158009, max_iter=1000, penalty='l2', solver='liblinear')\n",
    "\n",
    "# Evaluate multiple scoring metrics\n",
    "scoring = ['accuracy', 'precision', 'recall', 'f1']\n",
    "\n",
    "results = cross_validate(log_reg, X_train, y_train, cv=5, scoring=scoring)\n",
    "\n",
    "# Print average of each metric\n",
    "print(\"Mean Accuracy:\", results['test_accuracy'].mean())\n",
    "print(\"Mean Precision:\", results['test_precision'].mean())\n",
    "print(\"Mean Recall:\", results['test_recall'].mean())\n",
    "print(\"Mean F1-Score:\", results['test_f1'].mean())"
   ]
  },
  {
   "cell_type": "code",
   "execution_count": 198,
   "metadata": {},
   "outputs": [
    {
     "name": "stdout",
     "output_type": "stream",
     "text": [
      "Mean Accuracy: 0.6932323232323233\n",
      "Mean Precision: 0.6272732919254658\n",
      "Mean Recall: 0.7878947368421052\n",
      "Mean F1-Score: 0.6973048645784916\n"
     ]
    }
   ],
   "source": [
    "log_reg = LogisticRegression(C= 0.008263688714158009, max_iter=1000, penalty='l2', solver='liblinear')\n",
    "\n",
    "# Evaluate multiple scoring metrics\n",
    "scoring = ['accuracy', 'precision', 'recall', 'f1']\n",
    "\n",
    "results = cross_validate(log_reg, X_train, y_train, cv=5, scoring=scoring)\n",
    "\n",
    "# Print average of each metric\n",
    "print(\"Mean Accuracy:\", results['test_accuracy'].mean())\n",
    "print(\"Mean Precision:\", results['test_precision'].mean())\n",
    "print(\"Mean Recall:\", results['test_recall'].mean())\n",
    "print(\"Mean F1-Score:\", results['test_f1'].mean())"
   ]
  },
  {
   "cell_type": "code",
   "execution_count": 199,
   "metadata": {},
   "outputs": [
    {
     "name": "stdout",
     "output_type": "stream",
     "text": [
      "Fitting 5 folds for each of 54 candidates, totalling 270 fits\n",
      "Best Params: {'learning_rate': 0.1, 'max_depth': 4, 'n_estimators': 50, 'subsample': 1.0}\n",
      "Best Cross-Validated Recall: 0.7473684210526316\n"
     ]
    },
    {
     "name": "stderr",
     "output_type": "stream",
     "text": [
      "c:\\Users\\ahmed\\anaconda3\\Lib\\site-packages\\xgboost\\training.py:183: UserWarning: [23:27:36] WARNING: C:\\actions-runner\\_work\\xgboost\\xgboost\\src\\learner.cc:738: \n",
      "Parameters: { \"use_label_encoder\" } are not used.\n",
      "\n",
      "  bst.update(dtrain, iteration=i, fobj=obj)\n"
     ]
    }
   ],
   "source": [
    "from xgboost import XGBClassifier\n",
    "from sklearn.model_selection import GridSearchCV\n",
    "\n",
    "xgb = XGBClassifier(use_label_encoder=False, eval_metric='logloss')\n",
    "\n",
    "param_grid = {\n",
    "    'n_estimators': [50, 100, 150],\n",
    "    'max_depth': [3, 4, 5],\n",
    "    'learning_rate': [0.01, 0.1, 0.2],\n",
    "    'subsample': [0.8, 1.0]\n",
    "}\n",
    "grid = GridSearchCV(\n",
    "    estimator=xgb,\n",
    "    param_grid=param_grid,\n",
    "    scoring='recall',\n",
    "    cv=5,\n",
    "    n_jobs=-1,\n",
    "    verbose=1\n",
    ")\n",
    "\n",
    "grid.fit(X_train, y_train)\n",
    "\n",
    "print(\"Best Params:\", grid.best_params_)\n",
    "print(\"Best Cross-Validated Recall:\", grid.best_score_)\n"
   ]
  },
  {
   "cell_type": "code",
   "execution_count": 200,
   "metadata": {},
   "outputs": [
    {
     "name": "stdout",
     "output_type": "stream",
     "text": [
      "Fitting 5 folds for each of 20 candidates, totalling 100 fits\n",
      "Best Params: {'C': 0.19713872690045356, 'gamma': 8.24431219090507, 'kernel': 'rbf'}\n",
      "Best Cross-Validated Recall: 0.7684210526315789\n"
     ]
    }
   ],
   "source": [
    "from sklearn.svm import SVC\n",
    "from sklearn.model_selection import RandomizedSearchCV\n",
    "from scipy.stats import loguniform\n",
    "\n",
    "\n",
    "svm = SVC()\n",
    "\n",
    "# Parameter distribution for Randomized Search\n",
    "param_dist = {\n",
    "    'C': loguniform(1e-3, 1e3),         \n",
    "    'gamma': loguniform(1e-4, 1e1),   \n",
    "    'kernel': ['rbf', 'poly', 'sigmoid']  \n",
    "}\n",
    "\n",
    "# RandomizedSearchCV setup\n",
    "random_search = RandomizedSearchCV(\n",
    "    estimator=svm,\n",
    "    param_distributions=param_dist,\n",
    "    scoring='recall',\n",
    "    n_iter=20,\n",
    "    cv=5,\n",
    "    n_jobs=-1,\n",
    "    verbose=1,\n",
    "    random_state=42\n",
    ")\n",
    "\n",
    "# Fit the model\n",
    "random_search.fit(X_train, y_train)\n",
    "\n",
    "# Best results\n",
    "print(\"Best Params:\", random_search.best_params_)\n",
    "print(\"Best Cross-Validated Recall:\", random_search.best_score_)"
   ]
  },
  {
   "cell_type": "markdown",
   "metadata": {},
   "source": []
  },
  {
   "cell_type": "code",
   "execution_count": 201,
   "metadata": {},
   "outputs": [
    {
     "name": "stdout",
     "output_type": "stream",
     "text": [
      "Mean Accuracy:  0.7748\n",
      "Mean Precision: 0.7440\n",
      "Mean Recall:    0.7884\n",
      "Mean F1 Score:  0.7588\n"
     ]
    }
   ],
   "source": [
    "from sklearn.svm import SVC\n",
    "from sklearn.model_selection import cross_validate\n",
    "import numpy as np\n",
    "\n",
    "# Define the best SVM model\n",
    "best_svm = SVC(\n",
    "    C=0.19713872690045356,\n",
    "    gamma=8.24431219090507,\n",
    "    kernel='rbf',\n",
    "    class_weight='balanced'\n",
    ")\n",
    "\n",
    "# Perform cross-validation with multiple scoring metrics\n",
    "scoring = ['accuracy', 'precision', 'recall', 'f1']\n",
    "\n",
    "cv_results = cross_validate(\n",
    "    best_svm,\n",
    "    X_train,\n",
    "    y_train,\n",
    "    cv=5,\n",
    "    scoring=scoring,\n",
    "    return_train_score=False\n",
    ")\n",
    "\n",
    "# Print average scores across folds\n",
    "print(\"Mean Accuracy:  {:.4f}\".format(np.mean(cv_results['test_accuracy'])))\n",
    "print(\"Mean Precision: {:.4f}\".format(np.mean(cv_results['test_precision'])))\n",
    "print(\"Mean Recall:    {:.4f}\".format(np.mean(cv_results['test_recall'])))\n",
    "print(\"Mean F1 Score:  {:.4f}\".format(np.mean(cv_results['test_f1'])))\n",
    "\n"
   ]
  },
  {
   "cell_type": "code",
   "execution_count": 202,
   "metadata": {},
   "outputs": [
    {
     "name": "stdout",
     "output_type": "stream",
     "text": [
      "Fitting 5 folds for each of 300 candidates, totalling 1500 fits\n"
     ]
    },
    {
     "name": "stderr",
     "output_type": "stream",
     "text": [
      "c:\\Users\\ahmed\\anaconda3\\Lib\\site-packages\\xgboost\\training.py:183: UserWarning: [23:27:41] WARNING: C:\\actions-runner\\_work\\xgboost\\xgboost\\src\\learner.cc:738: \n",
      "Parameters: { \"use_label_encoder\" } are not used.\n",
      "\n",
      "  bst.update(dtrain, iteration=i, fobj=obj)\n"
     ]
    },
    {
     "name": "stdout",
     "output_type": "stream",
     "text": [
      "Best XGBoost Params: {'colsample_bytree': 0.937216949451689, 'gamma': 1.5937625146603496, 'learning_rate': 0.19776741293110273, 'max_depth': 7, 'n_estimators': 157, 'subsample': 0.7698878424260901}\n",
      "Best Cross-Validated Recall (XGBoost): 0.7573684210526316\n"
     ]
    }
   ],
   "source": [
    "from xgboost import XGBClassifier\n",
    "from sklearn.model_selection import RandomizedSearchCV\n",
    "from scipy.stats import uniform, randint\n",
    "\n",
    "# Define the base model\n",
    "xgb = XGBClassifier(use_label_encoder=False, eval_metric='logloss')\n",
    "\n",
    "# Define parameter distributions\n",
    "param_dist = {\n",
    "    'n_estimators': randint(50, 200),         \n",
    "    'max_depth': randint(3, 10),               \n",
    "    'learning_rate': uniform(0.01, 0.3),      \n",
    "    'subsample': uniform(0.7, 0.3),            \n",
    "    'colsample_bytree': uniform(0.7, 0.3),    \n",
    "    'gamma': uniform(0, 5),                    \n",
    "}\n",
    "\n",
    "# RandomizedSearchCV\n",
    "random_search_xgb = RandomizedSearchCV(\n",
    "    estimator=xgb,\n",
    "    param_distributions=param_dist,\n",
    "    n_iter=300,\n",
    "    scoring='recall',\n",
    "    cv=5,\n",
    "    verbose=1,\n",
    "    n_jobs=-1,\n",
    "    random_state=42\n",
    ")\n",
    "\n",
    "# Fit model\n",
    "random_search_xgb.fit(X_train, y_train)\n",
    "\n",
    "# Show best parameters and recall score\n",
    "print(\"Best XGBoost Params:\", random_search_xgb.best_params_)\n",
    "print(\"Best Cross-Validated Recall (XGBoost):\", random_search_xgb.best_score_)"
   ]
  },
  {
   "cell_type": "code",
   "execution_count": 208,
   "metadata": {},
   "outputs": [
    {
     "name": "stdout",
     "output_type": "stream",
     "text": [
      "✅ Accuracy: 0.8666666666666667\n",
      "✅ Precision: 0.8333333333333334\n",
      "✅ Recall: 0.8928571428571429\n",
      "✅ F1 Score: 0.8620689655172413\n",
      "\n",
      "📊 Classification Report:\n",
      "               precision    recall  f1-score   support\n",
      "\n",
      "           0       0.90      0.84      0.87        32\n",
      "           1       0.83      0.89      0.86        28\n",
      "\n",
      "    accuracy                           0.87        60\n",
      "   macro avg       0.87      0.87      0.87        60\n",
      "weighted avg       0.87      0.87      0.87        60\n",
      "\n",
      "🧱 Confusion Matrix:\n",
      " [[27  5]\n",
      " [ 3 25]]\n"
     ]
    }
   ],
   "source": [
    "from sklearn.svm import SVC\n",
    "from sklearn.metrics import classification_report, confusion_matrix, accuracy_score,precision_score,recall_score,f1_score\n",
    "import pandas as pd\n",
    "\n",
    "# Load test and train data\n",
    "test = pd.read_csv('../data/Test_selected_features.csv')\n",
    "X_test = test.drop('target', axis=1)\n",
    "y_test = test['target']\n",
    "\n",
    "df = pd.read_csv('../data/Trained_selected_features.csv')\n",
    "X_train = df.drop('target', axis=1)\n",
    "y_train = df['target']\n",
    "\n",
    "# Define the best SVM model\n",
    "best_svm = SVC(\n",
    "    C=0.19713872690045356,\n",
    "    gamma=8.24431219090507,\n",
    "    kernel='rbf',\n",
    "    class_weight='balanced'\n",
    ")\n",
    "\n",
    "# Fit the model\n",
    "best_svm.fit(X_train, y_train)\n",
    "# Predict on test set\n",
    "y_pred = best_svm.predict(X_test)\n",
    "\n",
    "# Evaluation\n",
    "print(\"✅ Accuracy:\", accuracy_score(y_test, y_pred))\n",
    "print(\"✅ Precision:\", precision_score(y_test, y_pred))\n",
    "print(\"✅ Recall:\", recall_score(y_test, y_pred))\n",
    "print(\"✅ F1 Score:\", f1_score(y_test, y_pred))\n",
    "print(\"\\n📊 Classification Report:\\n\", classification_report(y_test, y_pred))\n",
    "print(\"🧱 Confusion Matrix:\\n\", confusion_matrix(y_test, y_pred))"
   ]
  },
  {
   "cell_type": "code",
   "execution_count": 209,
   "metadata": {},
   "outputs": [
    {
     "data": {
      "image/png": "[encoded data removed]",
      "text/plain": [
       "<Figure size 640x480 with 2 Axes>"
      ]
     },
     "metadata": {},
     "output_type": "display_data"
    }
   ],
   "source": [
    "import seaborn as sns\n",
    "import matplotlib.pyplot as plt\n",
    "from sklearn.metrics import confusion_matrix\n",
    "\n",
    "cm = confusion_matrix(y_test, y_pred)\n",
    "sns.heatmap(cm, annot=True, fmt='d', cmap='Blues', xticklabels=['Healthy', 'Sick'], yticklabels=['Healthy', 'Sick'])\n",
    "plt.xlabel('Predicted')\n",
    "plt.ylabel('Actual')\n",
    "plt.title('SVM Confusion Matrix')\n",
    "plt.show()"
   ]
  },
  {
   "cell_type": "code",
   "execution_count": 210,
   "metadata": {},
   "outputs": [
    {
     "data": {
      "text/plain": [
       "['../models/svm_heart_model.pkl']"
      ]
     },
     "execution_count": 210,
     "metadata": {},
     "output_type": "execute_result"
    }
   ],
   "source": [
    "import joblib\n",
    "joblib.dump(best_svm, '../models/svm_heart_model.pkl')"
   ]
  }
 ],
 "metadata": {
  "kernelspec": {
   "display_name": "base",
   "language": "python",
   "name": "python3"
  },
  "language_info": {
   "codemirror_mode": {
    "name": "ipython",
    "version": 3
   },
   "file_extension": ".py",
   "mimetype": "text/x-python",
   "name": "python",
   "nbconvert_exporter": "python",
   "pygments_lexer": "ipython3",
   "version": "3.12.4"
  }
 },
 "nbformat": 4,
 "nbformat_minor": 2
}
