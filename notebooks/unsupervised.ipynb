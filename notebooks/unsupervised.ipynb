{
 "cells": [
  {
   "cell_type": "code",
   "execution_count": 1,
   "id": "85de8ed3",
   "metadata": {},
   "outputs": [],
   "source": [
    "import pandas as pd\n",
    "import numpy as np\n",
    "import matplotlib.pyplot as plt\n",
    "from sklearn import cluster\n"
   ]
  },
  {
   "cell_type": "code",
   "execution_count": 2,
   "id": "29b5315e",
   "metadata": {},
   "outputs": [
    {
     "data": {
      "text/html": [
       "<div>\n",
       "<style scoped>\n",
       "    .dataframe tbody tr th:only-of-type {\n",
       "        vertical-align: middle;\n",
       "    }\n",
       "\n",
       "    .dataframe tbody tr th {\n",
       "        vertical-align: top;\n",
       "    }\n",
       "\n",
       "    .dataframe thead th {\n",
       "        text-align: right;\n",
       "    }\n",
       "</style>\n",
       "<table border=\"1\" class=\"dataframe\">\n",
       "  <thead>\n",
       "    <tr style=\"text-align: right;\">\n",
       "      <th></th>\n",
       "      <th>exang</th>\n",
       "      <th>ca</th>\n",
       "      <th>cp_3.0</th>\n",
       "      <th>cp_4.0</th>\n",
       "      <th>thal_7.0</th>\n",
       "      <th>target</th>\n",
       "    </tr>\n",
       "  </thead>\n",
       "  <tbody>\n",
       "    <tr>\n",
       "      <th>0</th>\n",
       "      <td>0.0</td>\n",
       "      <td>0.333333</td>\n",
       "      <td>0</td>\n",
       "      <td>0</td>\n",
       "      <td>0</td>\n",
       "      <td>1</td>\n",
       "    </tr>\n",
       "    <tr>\n",
       "      <th>1</th>\n",
       "      <td>0.0</td>\n",
       "      <td>0.000000</td>\n",
       "      <td>1</td>\n",
       "      <td>0</td>\n",
       "      <td>0</td>\n",
       "      <td>0</td>\n",
       "    </tr>\n",
       "    <tr>\n",
       "      <th>2</th>\n",
       "      <td>0.0</td>\n",
       "      <td>0.333333</td>\n",
       "      <td>1</td>\n",
       "      <td>0</td>\n",
       "      <td>0</td>\n",
       "      <td>0</td>\n",
       "    </tr>\n",
       "    <tr>\n",
       "      <th>3</th>\n",
       "      <td>0.0</td>\n",
       "      <td>0.000000</td>\n",
       "      <td>0</td>\n",
       "      <td>0</td>\n",
       "      <td>0</td>\n",
       "      <td>0</td>\n",
       "    </tr>\n",
       "    <tr>\n",
       "      <th>4</th>\n",
       "      <td>0.0</td>\n",
       "      <td>0.000000</td>\n",
       "      <td>0</td>\n",
       "      <td>0</td>\n",
       "      <td>0</td>\n",
       "      <td>0</td>\n",
       "    </tr>\n",
       "  </tbody>\n",
       "</table>\n",
       "</div>"
      ],
      "text/plain": [
       "   exang        ca  cp_3.0  cp_4.0  thal_7.0  target\n",
       "0    0.0  0.333333       0       0         0       1\n",
       "1    0.0  0.000000       1       0         0       0\n",
       "2    0.0  0.333333       1       0         0       0\n",
       "3    0.0  0.000000       0       0         0       0\n",
       "4    0.0  0.000000       0       0         0       0"
      ]
     },
     "execution_count": 2,
     "metadata": {},
     "output_type": "execute_result"
    }
   ],
   "source": [
    "df=pd.read_csv(\"../data/Trained_selected_features.csv\")\n",
    "df.head()"
   ]
  },
  {
   "cell_type": "code",
   "execution_count": 3,
   "id": "da2d54cd",
   "metadata": {},
   "outputs": [
    {
     "name": "stderr",
     "output_type": "stream",
     "text": [
      "c:\\Users\\ahmed\\anaconda3\\Lib\\site-packages\\sklearn\\cluster\\_kmeans.py:1419: UserWarning: KMeans is known to have a memory leak on Windows with MKL, when there are less chunks than available threads. You can avoid it by setting the environment variable OMP_NUM_THREADS=1.\n",
      "  warnings.warn(\n",
      "c:\\Users\\ahmed\\anaconda3\\Lib\\site-packages\\sklearn\\cluster\\_kmeans.py:1419: UserWarning: KMeans is known to have a memory leak on Windows with MKL, when there are less chunks than available threads. You can avoid it by setting the environment variable OMP_NUM_THREADS=1.\n",
      "  warnings.warn(\n",
      "c:\\Users\\ahmed\\anaconda3\\Lib\\site-packages\\sklearn\\cluster\\_kmeans.py:1419: UserWarning: KMeans is known to have a memory leak on Windows with MKL, when there are less chunks than available threads. You can avoid it by setting the environment variable OMP_NUM_THREADS=1.\n",
      "  warnings.warn(\n",
      "c:\\Users\\ahmed\\anaconda3\\Lib\\site-packages\\sklearn\\cluster\\_kmeans.py:1419: UserWarning: KMeans is known to have a memory leak on Windows with MKL, when there are less chunks than available threads. You can avoid it by setting the environment variable OMP_NUM_THREADS=1.\n",
      "  warnings.warn(\n",
      "c:\\Users\\ahmed\\anaconda3\\Lib\\site-packages\\sklearn\\cluster\\_kmeans.py:1419: UserWarning: KMeans is known to have a memory leak on Windows with MKL, when there are less chunks than available threads. You can avoid it by setting the environment variable OMP_NUM_THREADS=1.\n",
      "  warnings.warn(\n",
      "c:\\Users\\ahmed\\anaconda3\\Lib\\site-packages\\sklearn\\cluster\\_kmeans.py:1419: UserWarning: KMeans is known to have a memory leak on Windows with MKL, when there are less chunks than available threads. You can avoid it by setting the environment variable OMP_NUM_THREADS=1.\n",
      "  warnings.warn(\n",
      "c:\\Users\\ahmed\\anaconda3\\Lib\\site-packages\\sklearn\\cluster\\_kmeans.py:1419: UserWarning: KMeans is known to have a memory leak on Windows with MKL, when there are less chunks than available threads. You can avoid it by setting the environment variable OMP_NUM_THREADS=1.\n",
      "  warnings.warn(\n",
      "c:\\Users\\ahmed\\anaconda3\\Lib\\site-packages\\sklearn\\cluster\\_kmeans.py:1419: UserWarning: KMeans is known to have a memory leak on Windows with MKL, when there are less chunks than available threads. You can avoid it by setting the environment variable OMP_NUM_THREADS=1.\n",
      "  warnings.warn(\n",
      "c:\\Users\\ahmed\\anaconda3\\Lib\\site-packages\\sklearn\\cluster\\_kmeans.py:1419: UserWarning: KMeans is known to have a memory leak on Windows with MKL, when there are less chunks than available threads. You can avoid it by setting the environment variable OMP_NUM_THREADS=1.\n",
      "  warnings.warn(\n",
      "c:\\Users\\ahmed\\anaconda3\\Lib\\site-packages\\sklearn\\cluster\\_kmeans.py:1419: UserWarning: KMeans is known to have a memory leak on Windows with MKL, when there are less chunks than available threads. You can avoid it by setting the environment variable OMP_NUM_THREADS=1.\n",
      "  warnings.warn(\n"
     ]
    },
    {
     "data": {
      "image/png": "[encoded data removed]",
      "text/plain": [
       "<Figure size 640x480 with 1 Axes>"
      ]
     },
     "metadata": {},
     "output_type": "display_data"
    }
   ],
   "source": [
    "\n",
    "features=['exang', 'ca', 'cp_3.0', 'cp_4.0', 'thal_7.0']\n",
    "X=df[features]\n",
    "y=df['target']\n",
    "results=[]\n",
    "##let's try elbow method to determine K\n",
    "for i in range(1,11):\n",
    "    kmeans=cluster.KMeans(n_clusters=i, random_state=42)\n",
    "    kmeans.fit(X)\n",
    "    results.append(kmeans.inertia_)\n",
    "plt.plot(range(1,11), results)\n",
    "plt.xlabel(\"Number of Clusters (k)\")\n",
    "plt.ylabel(\"Inertia\")\n",
    "plt.show()\n"
   ]
  },
  {
   "cell_type": "code",
   "execution_count": 4,
   "id": "6e9c47bf",
   "metadata": {},
   "outputs": [
    {
     "name": "stderr",
     "output_type": "stream",
     "text": [
      "c:\\Users\\ahmed\\anaconda3\\Lib\\site-packages\\sklearn\\cluster\\_kmeans.py:1419: UserWarning: KMeans is known to have a memory leak on Windows with MKL, when there are less chunks than available threads. You can avoid it by setting the environment variable OMP_NUM_THREADS=1.\n",
      "  warnings.warn(\n",
      "c:\\Users\\ahmed\\anaconda3\\Lib\\site-packages\\sklearn\\cluster\\_kmeans.py:1419: UserWarning: KMeans is known to have a memory leak on Windows with MKL, when there are less chunks than available threads. You can avoid it by setting the environment variable OMP_NUM_THREADS=1.\n",
      "  warnings.warn(\n",
      "c:\\Users\\ahmed\\anaconda3\\Lib\\site-packages\\sklearn\\cluster\\_kmeans.py:1419: UserWarning: KMeans is known to have a memory leak on Windows with MKL, when there are less chunks than available threads. You can avoid it by setting the environment variable OMP_NUM_THREADS=1.\n",
      "  warnings.warn(\n",
      "c:\\Users\\ahmed\\anaconda3\\Lib\\site-packages\\sklearn\\cluster\\_kmeans.py:1419: UserWarning: KMeans is known to have a memory leak on Windows with MKL, when there are less chunks than available threads. You can avoid it by setting the environment variable OMP_NUM_THREADS=1.\n",
      "  warnings.warn(\n",
      "c:\\Users\\ahmed\\anaconda3\\Lib\\site-packages\\sklearn\\cluster\\_kmeans.py:1419: UserWarning: KMeans is known to have a memory leak on Windows with MKL, when there are less chunks than available threads. You can avoid it by setting the environment variable OMP_NUM_THREADS=1.\n",
      "  warnings.warn(\n",
      "c:\\Users\\ahmed\\anaconda3\\Lib\\site-packages\\sklearn\\cluster\\_kmeans.py:1419: UserWarning: KMeans is known to have a memory leak on Windows with MKL, when there are less chunks than available threads. You can avoid it by setting the environment variable OMP_NUM_THREADS=1.\n",
      "  warnings.warn(\n",
      "c:\\Users\\ahmed\\anaconda3\\Lib\\site-packages\\sklearn\\cluster\\_kmeans.py:1419: UserWarning: KMeans is known to have a memory leak on Windows with MKL, when there are less chunks than available threads. You can avoid it by setting the environment variable OMP_NUM_THREADS=1.\n",
      "  warnings.warn(\n",
      "c:\\Users\\ahmed\\anaconda3\\Lib\\site-packages\\sklearn\\cluster\\_kmeans.py:1419: UserWarning: KMeans is known to have a memory leak on Windows with MKL, when there are less chunks than available threads. You can avoid it by setting the environment variable OMP_NUM_THREADS=1.\n",
      "  warnings.warn(\n",
      "c:\\Users\\ahmed\\anaconda3\\Lib\\site-packages\\sklearn\\cluster\\_kmeans.py:1419: UserWarning: KMeans is known to have a memory leak on Windows with MKL, when there are less chunks than available threads. You can avoid it by setting the environment variable OMP_NUM_THREADS=1.\n",
      "  warnings.warn(\n",
      "c:\\Users\\ahmed\\anaconda3\\Lib\\site-packages\\sklearn\\cluster\\_kmeans.py:1419: UserWarning: KMeans is known to have a memory leak on Windows with MKL, when there are less chunks than available threads. You can avoid it by setting the environment variable OMP_NUM_THREADS=1.\n",
      "  warnings.warn(\n"
     ]
    },
    {
     "data": {
      "image/png": "[encoded data removed]",
      "text/plain": [
       "<Figure size 640x480 with 1 Axes>"
      ]
     },
     "metadata": {},
     "output_type": "display_data"
    }
   ],
   "source": [
    "df=pd.read_csv(\"../data/Trained_pca_heart.csv\")\n",
    "features=['PC1', 'PC2', 'PC3']\n",
    "X=df[features]\n",
    "y=df['target']\n",
    "results=[]\n",
    "##let's try elbow method to determine K\n",
    "for i in range(1,11):\n",
    "    kmeans=cluster.KMeans(n_clusters=i, random_state=42)\n",
    "    kmeans.fit(X)\n",
    "    kmeans.inertia_\n",
    "    results.append(kmeans.inertia_)\n",
    "plt.plot(range(1,11),results)\n",
    "plt.xlabel(\"Number of Clusters (k)\")\n",
    "plt.ylabel(\"Inertia\")\n",
    "plt.show()"
   ]
  },
  {
   "cell_type": "code",
   "execution_count": 5,
   "id": "87836ca8",
   "metadata": {},
   "outputs": [
    {
     "data": {
      "image/png": "[encoded data removed]",
      "text/plain": [
       "<Figure size 800x600 with 1 Axes>"
      ]
     },
     "metadata": {},
     "output_type": "display_data"
    }
   ],
   "source": [
    "\n",
    "from sklearn.decomposition import PCA\n",
    "\n",
    "df = pd.read_csv(\"../data/Trained_Cleaned_heart_data.csv\")\n",
    "# 1. Feature selection\n",
    "features = ['age', 'trestbps', 'chol', 'thalach', 'oldpeak']\n",
    "\n",
    "\n",
    "\n",
    "X = df[features]\n",
    "y = df['target']  \n",
    "\n",
    "\n",
    "pca = PCA(n_components=2)\n",
    "X_pca = pca.fit_transform(X)\n",
    "\n",
    "\n",
    "# 5. Plot the PCA components colored by target\n",
    "plt.figure(figsize=(8, 6))\n",
    "plt.scatter(X_pca[y == 0, 0], X_pca[y == 0, 1], label='No Disease', alpha=0.6, c='blue', marker='o')\n",
    "plt.scatter(X_pca[y == 1, 0], X_pca[y == 1, 1], label='Has Disease', alpha=0.6, c='red', marker='x')\n",
    "\n",
    "plt.xlabel('Principal Component 1')\n",
    "plt.ylabel('Principal Component 2')\n",
    "plt.title('PCA: Heart Disease vs No Disease')\n",
    "plt.legend()\n",
    "plt.grid(True)\n",
    "plt.tight_layout()\n",
    "plt.show()"
   ]
  },
  {
   "cell_type": "code",
   "execution_count": 6,
   "id": "f7b16266",
   "metadata": {},
   "outputs": [
    {
     "data": {
      "application/vnd.plotly.v1+json": {
       "config": {
        "plotlyServerURL": "https://plot.ly"
       },
       "data": [
        {
         "hovertemplate": "PC1=%{x}<br>PC2=%{y}<br>PC3=%{z}<br>target=%{marker.color}<extra></extra>",
         "legendgroup": "",
         "marker": {
          "color": {
           "bdata": "AQAAAAAAAAABAAEAAAAAAAEAAQEBAQAAAAABAAEAAQABAAEBAQEBAAABAQABAAEAAAEAAQEBAAAAAAABAAEAAQEBAQABAAEAAAAAAAAAAQABAQEAAQEAAAAAAQAAAAEBAAABAAEAAQEAAQABAAAAAAEBAQEAAAEBAAAAAQEAAAAAAQAAAAEAAAABAQEBAAEAAAABAAEAAQAAAQABAQABAAEBAAAAAQAAAAEBAAAAAAEBAAAAAAABAQAAAQAAAAEAAAABAQEBAQEBAQEAAAEAAAEBAQEBAAEAAAABAAEA",
           "dtype": "i1"
          },
          "coloraxis": "coloraxis",
          "opacity": 0.7,
          "size": 5,
          "symbol": "circle"
         },
         "mode": "markers",
         "name": "",
         "scene": "scene",
         "showlegend": false,
         "type": "scatter3d",
         "x": {
          "bdata": "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",
          "dtype": "f8"
         },
         "y": {
          "bdata": "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",
          "dtype": "f8"
         },
         "z": {
          "bdata": "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",
          "dtype": "f8"
         }
        }
       ],
       "layout": {
        "coloraxis": {
         "colorbar": {
          "title": {
           "text": "target"
          }
         },
         "colorscale": [
          [
           0,
           "#0d0887"
          ],
          [
           0.1111111111111111,
           "#46039f"
          ],
          [
           0.2222222222222222,
           "#7201a8"
          ],
          [
           0.3333333333333333,
           "#9c179e"
          ],
          [
           0.4444444444444444,
           "#bd3786"
          ],
          [
           0.5555555555555556,
           "#d8576b"
          ],
          [
           0.6666666666666666,
           "#ed7953"
          ],
          [
           0.7777777777777778,
           "#fb9f3a"
          ],
          [
           0.8888888888888888,
           "#fdca26"
          ],
          [
           1,
           "#f0f921"
          ]
         ]
        },
        "legend": {
         "title": {
          "text": ""
         },
         "tracegroupgap": 0
        },
        "margin": {
         "b": 0,
         "l": 0,
         "r": 0,
         "t": 30
        },
        "scene": {
         "domain": {
          "x": [
           0,
           1
          ],
          "y": [
           0,
           1
          ]
         },
         "xaxis": {
          "title": {
           "text": "PC1"
          }
         },
         "yaxis": {
          "title": {
           "text": "PC2"
          }
         },
         "zaxis": {
          "title": {
           "text": "PC3"
          }
         }
        },
        "template": {
         "data": {
          "bar": [
           {
            "error_x": {
             "color": "#2a3f5f"
            },
            "error_y": {
             "color": "#2a3f5f"
            },
            "marker": {
             "line": {
              "color": "#E5ECF6",
              "width": 0.5
             },
             "pattern": {
              "fillmode": "overlay",
              "size": 10,
              "solidity": 0.2
             }
            },
            "type": "bar"
           }
          ],
          "barpolar": [
           {
            "marker": {
             "line": {
              "color": "#E5ECF6",
              "width": 0.5
             },
             "pattern": {
              "fillmode": "overlay",
              "size": 10,
              "solidity": 0.2
             }
            },
            "type": "barpolar"
           }
          ],
          "carpet": [
           {
            "aaxis": {
             "endlinecolor": "#2a3f5f",
             "gridcolor": "white",
             "linecolor": "white",
             "minorgridcolor": "white",
             "startlinecolor": "#2a3f5f"
            },
            "baxis": {
             "endlinecolor": "#2a3f5f",
             "gridcolor": "white",
             "linecolor": "white",
             "minorgridcolor": "white",
             "startlinecolor": "#2a3f5f"
            },
            "type": "carpet"
           }
          ],
          "choropleth": [
           {
            "colorbar": {
             "outlinewidth": 0,
             "ticks": ""
            },
            "type": "choropleth"
           }
          ],
          "contour": [
           {
            "colorbar": {
             "outlinewidth": 0,
             "ticks": ""
            },
            "colorscale": [
             [
              0,
              "#0d0887"
             ],
             [
              0.1111111111111111,
              "#46039f"
             ],
             [
              0.2222222222222222,
              "#7201a8"
             ],
             [
              0.3333333333333333,
              "#9c179e"
             ],
             [
              0.4444444444444444,
              "#bd3786"
             ],
             [
              0.5555555555555556,
              "#d8576b"
             ],
             [
              0.6666666666666666,
              "#ed7953"
             ],
             [
              0.7777777777777778,
              "#fb9f3a"
             ],
             [
              0.8888888888888888,
              "#fdca26"
             ],
             [
              1,
              "#f0f921"
             ]
            ],
            "type": "contour"
           }
          ],
          "contourcarpet": [
           {
            "colorbar": {
             "outlinewidth": 0,
             "ticks": ""
            },
            "type": "contourcarpet"
           }
          ],
          "heatmap": [
           {
            "colorbar": {
             "outlinewidth": 0,
             "ticks": ""
            },
            "colorscale": [
             [
              0,
              "#0d0887"
             ],
             [
              0.1111111111111111,
              "#46039f"
             ],
             [
              0.2222222222222222,
              "#7201a8"
             ],
             [
              0.3333333333333333,
              "#9c179e"
             ],
             [
              0.4444444444444444,
              "#bd3786"
             ],
             [
              0.5555555555555556,
              "#d8576b"
             ],
             [
              0.6666666666666666,
              "#ed7953"
             ],
             [
              0.7777777777777778,
              "#fb9f3a"
             ],
             [
              0.8888888888888888,
              "#fdca26"
             ],
             [
              1,
              "#f0f921"
             ]
            ],
            "type": "heatmap"
           }
          ],
          "histogram": [
           {
            "marker": {
             "pattern": {
              "fillmode": "overlay",
              "size": 10,
              "solidity": 0.2
             }
            },
            "type": "histogram"
           }
          ],
          "histogram2d": [
           {
            "colorbar": {
             "outlinewidth": 0,
             "ticks": ""
            },
            "colorscale": [
             [
              0,
              "#0d0887"
             ],
             [
              0.1111111111111111,
              "#46039f"
             ],
             [
              0.2222222222222222,
              "#7201a8"
             ],
             [
              0.3333333333333333,
              "#9c179e"
             ],
             [
              0.4444444444444444,
              "#bd3786"
             ],
             [
              0.5555555555555556,
              "#d8576b"
             ],
             [
              0.6666666666666666,
              "#ed7953"
             ],
             [
              0.7777777777777778,
              "#fb9f3a"
             ],
             [
              0.8888888888888888,
              "#fdca26"
             ],
             [
              1,
              "#f0f921"
             ]
            ],
            "type": "histogram2d"
           }
          ],
          "histogram2dcontour": [
           {
            "colorbar": {
             "outlinewidth": 0,
             "ticks": ""
            },
            "colorscale": [
             [
              0,
              "#0d0887"
             ],
             [
              0.1111111111111111,
              "#46039f"
             ],
             [
              0.2222222222222222,
              "#7201a8"
             ],
             [
              0.3333333333333333,
              "#9c179e"
             ],
             [
              0.4444444444444444,
              "#bd3786"
             ],
             [
              0.5555555555555556,
              "#d8576b"
             ],
             [
              0.6666666666666666,
              "#ed7953"
             ],
             [
              0.7777777777777778,
              "#fb9f3a"
             ],
             [
              0.8888888888888888,
              "#fdca26"
             ],
             [
              1,
              "#f0f921"
             ]
            ],
            "type": "histogram2dcontour"
           }
          ],
          "mesh3d": [
           {
            "colorbar": {
             "outlinewidth": 0,
             "ticks": ""
            },
            "type": "mesh3d"
           }
          ],
          "parcoords": [
           {
            "line": {
             "colorbar": {
              "outlinewidth": 0,
              "ticks": ""
             }
            },
            "type": "parcoords"
           }
          ],
          "pie": [
           {
            "automargin": true,
            "type": "pie"
           }
          ],
          "scatter": [
           {
            "fillpattern": {
             "fillmode": "overlay",
             "size": 10,
             "solidity": 0.2
            },
            "type": "scatter"
           }
          ],
          "scatter3d": [
           {
            "line": {
             "colorbar": {
              "outlinewidth": 0,
              "ticks": ""
             }
            },
            "marker": {
             "colorbar": {
              "outlinewidth": 0,
              "ticks": ""
             }
            },
            "type": "scatter3d"
           }
          ],
          "scattercarpet": [
           {
            "marker": {
             "colorbar": {
              "outlinewidth": 0,
              "ticks": ""
             }
            },
            "type": "scattercarpet"
           }
          ],
          "scattergeo": [
           {
            "marker": {
             "colorbar": {
              "outlinewidth": 0,
              "ticks": ""
             }
            },
            "type": "scattergeo"
           }
          ],
          "scattergl": [
           {
            "marker": {
             "colorbar": {
              "outlinewidth": 0,
              "ticks": ""
             }
            },
            "type": "scattergl"
           }
          ],
          "scattermap": [
           {
            "marker": {
             "colorbar": {
              "outlinewidth": 0,
              "ticks": ""
             }
            },
            "type": "scattermap"
           }
          ],
          "scattermapbox": [
           {
            "marker": {
             "colorbar": {
              "outlinewidth": 0,
              "ticks": ""
             }
            },
            "type": "scattermapbox"
           }
          ],
          "scatterpolar": [
           {
            "marker": {
             "colorbar": {
              "outlinewidth": 0,
              "ticks": ""
             }
            },
            "type": "scatterpolar"
           }
          ],
          "scatterpolargl": [
           {
            "marker": {
             "colorbar": {
              "outlinewidth": 0,
              "ticks": ""
             }
            },
            "type": "scatterpolargl"
           }
          ],
          "scatterternary": [
           {
            "marker": {
             "colorbar": {
              "outlinewidth": 0,
              "ticks": ""
             }
            },
            "type": "scatterternary"
           }
          ],
          "surface": [
           {
            "colorbar": {
             "outlinewidth": 0,
             "ticks": ""
            },
            "colorscale": [
             [
              0,
              "#0d0887"
             ],
             [
              0.1111111111111111,
              "#46039f"
             ],
             [
              0.2222222222222222,
              "#7201a8"
             ],
             [
              0.3333333333333333,
              "#9c179e"
             ],
             [
              0.4444444444444444,
              "#bd3786"
             ],
             [
              0.5555555555555556,
              "#d8576b"
             ],
             [
              0.6666666666666666,
              "#ed7953"
             ],
             [
              0.7777777777777778,
              "#fb9f3a"
             ],
             [
              0.8888888888888888,
              "#fdca26"
             ],
             [
              1,
              "#f0f921"
             ]
            ],
            "type": "surface"
           }
          ],
          "table": [
           {
            "cells": {
             "fill": {
              "color": "#EBF0F8"
             },
             "line": {
              "color": "white"
             }
            },
            "header": {
             "fill": {
              "color": "#C8D4E3"
             },
             "line": {
              "color": "white"
             }
            },
            "type": "table"
           }
          ]
         },
         "layout": {
          "annotationdefaults": {
           "arrowcolor": "#2a3f5f",
           "arrowhead": 0,
           "arrowwidth": 1
          },
          "autotypenumbers": "strict",
          "coloraxis": {
           "colorbar": {
            "outlinewidth": 0,
            "ticks": ""
           }
          },
          "colorscale": {
           "diverging": [
            [
             0,
             "#8e0152"
            ],
            [
             0.1,
             "#c51b7d"
            ],
            [
             0.2,
             "#de77ae"
            ],
            [
             0.3,
             "#f1b6da"
            ],
            [
             0.4,
             "#fde0ef"
            ],
            [
             0.5,
             "#f7f7f7"
            ],
            [
             0.6,
             "#e6f5d0"
            ],
            [
             0.7,
             "#b8e186"
            ],
            [
             0.8,
             "#7fbc41"
            ],
            [
             0.9,
             "#4d9221"
            ],
            [
             1,
             "#276419"
            ]
           ],
           "sequential": [
            [
             0,
             "#0d0887"
            ],
            [
             0.1111111111111111,
             "#46039f"
            ],
            [
             0.2222222222222222,
             "#7201a8"
            ],
            [
             0.3333333333333333,
             "#9c179e"
            ],
            [
             0.4444444444444444,
             "#bd3786"
            ],
            [
             0.5555555555555556,
             "#d8576b"
            ],
            [
             0.6666666666666666,
             "#ed7953"
            ],
            [
             0.7777777777777778,
             "#fb9f3a"
            ],
            [
             0.8888888888888888,
             "#fdca26"
            ],
            [
             1,
             "#f0f921"
            ]
           ],
           "sequentialminus": [
            [
             0,
             "#0d0887"
            ],
            [
             0.1111111111111111,
             "#46039f"
            ],
            [
             0.2222222222222222,
             "#7201a8"
            ],
            [
             0.3333333333333333,
             "#9c179e"
            ],
            [
             0.4444444444444444,
             "#bd3786"
            ],
            [
             0.5555555555555556,
             "#d8576b"
            ],
            [
             0.6666666666666666,
             "#ed7953"
            ],
            [
             0.7777777777777778,
             "#fb9f3a"
            ],
            [
             0.8888888888888888,
             "#fdca26"
            ],
            [
             1,
             "#f0f921"
            ]
           ]
          },
          "colorway": [
           "#636efa",
           "#EF553B",
           "#00cc96",
           "#ab63fa",
           "#FFA15A",
           "#19d3f3",
           "#FF6692",
           "#B6E880",
           "#FF97FF",
           "#FECB52"
          ],
          "font": {
           "color": "#2a3f5f"
          },
          "geo": {
           "bgcolor": "white",
           "lakecolor": "white",
           "landcolor": "#E5ECF6",
           "showlakes": true,
           "showland": true,
           "subunitcolor": "white"
          },
          "hoverlabel": {
           "align": "left"
          },
          "hovermode": "closest",
          "mapbox": {
           "style": "light"
          },
          "paper_bgcolor": "white",
          "plot_bgcolor": "#E5ECF6",
          "polar": {
           "angularaxis": {
            "gridcolor": "white",
            "linecolor": "white",
            "ticks": ""
           },
           "bgcolor": "#E5ECF6",
           "radialaxis": {
            "gridcolor": "white",
            "linecolor": "white",
            "ticks": ""
           }
          },
          "scene": {
           "xaxis": {
            "backgroundcolor": "#E5ECF6",
            "gridcolor": "white",
            "gridwidth": 2,
            "linecolor": "white",
            "showbackground": true,
            "ticks": "",
            "zerolinecolor": "white"
           },
           "yaxis": {
            "backgroundcolor": "#E5ECF6",
            "gridcolor": "white",
            "gridwidth": 2,
            "linecolor": "white",
            "showbackground": true,
            "ticks": "",
            "zerolinecolor": "white"
           },
           "zaxis": {
            "backgroundcolor": "#E5ECF6",
            "gridcolor": "white",
            "gridwidth": 2,
            "linecolor": "white",
            "showbackground": true,
            "ticks": "",
            "zerolinecolor": "white"
           }
          },
          "shapedefaults": {
           "line": {
            "color": "#2a3f5f"
           }
          },
          "ternary": {
           "aaxis": {
            "gridcolor": "white",
            "linecolor": "white",
            "ticks": ""
           },
           "baxis": {
            "gridcolor": "white",
            "linecolor": "white",
            "ticks": ""
           },
           "bgcolor": "#E5ECF6",
           "caxis": {
            "gridcolor": "white",
            "linecolor": "white",
            "ticks": ""
           }
          },
          "title": {
           "x": 0.05
          },
          "xaxis": {
           "automargin": true,
           "gridcolor": "white",
           "linecolor": "white",
           "ticks": "",
           "title": {
            "standoff": 15
           },
           "zerolinecolor": "white",
           "zerolinewidth": 2
          },
          "yaxis": {
           "automargin": true,
           "gridcolor": "white",
           "linecolor": "white",
           "ticks": "",
           "title": {
            "standoff": 15
           },
           "zerolinecolor": "white",
           "zerolinewidth": 2
          }
         }
        },
        "title": {
         "text": "🫀 Interactive 3D PCA Visualization (Heart Disease)"
        }
       }
      }
     },
     "metadata": {},
     "output_type": "display_data"
    }
   ],
   "source": [
    "\n",
    "import plotly.express as px\n",
    "\n",
    "# Load your PCA-transformed dataset\n",
    "df = pd.read_csv(\"../data/Trained_pca_heart.csv\")\n",
    "\n",
    "# 3D interactive scatter plot\n",
    "fig = px.scatter_3d(\n",
    "    df,\n",
    "    x='PC1', y='PC2', z='PC3',\n",
    "    color='target', \n",
    "    color_discrete_map={0: 'blue', 1: 'red'},\n",
    "    labels={ 'Heart Disease'},\n",
    "    title='🫀 Interactive 3D PCA Visualization (Heart Disease)'\n",
    ")\n",
    "\n",
    "fig.update_traces(marker=dict(size=5, opacity=0.7))\n",
    "fig.update_layout(\n",
    "    scene=dict(\n",
    "        xaxis_title='PC1',\n",
    "        yaxis_title='PC2',\n",
    "        zaxis_title='PC3'\n",
    "    ),\n",
    "    legend=dict(title=''),\n",
    "    margin=dict(l=0, r=0, b=0, t=30)\n",
    ")\n",
    "\n",
    "fig.show()"
   ]
  },
  {
   "cell_type": "code",
   "execution_count": 7,
   "id": "dbb54be1",
   "metadata": {},
   "outputs": [
    {
     "data": {
      "image/png": "[encoded data removed]",
      "text/plain": [
       "<Figure size 1200x600 with 1 Axes>"
      ]
     },
     "metadata": {},
     "output_type": "display_data"
    }
   ],
   "source": [
    "\n",
    "from scipy.cluster.hierarchy import dendrogram, linkage\n",
    "\n",
    "\n",
    "\n",
    "df = pd.read_csv(\"../data/Trained_pca_heart.csv\")\n",
    "\n",
    "\n",
    "X = df[['PC1', 'PC2', 'PC3']]\n",
    "\n",
    "\n",
    "\n",
    "linked = linkage(X, method='ward')  \n",
    "\n",
    "plt.figure(figsize=(12, 6))\n",
    "dendrogram(linked,\n",
    "           orientation='top',\n",
    "           distance_sort=True,\n",
    "           show_leaf_counts=False,\n",
    "           no_labels=True)\n",
    "plt.title(\"Hierarchical Clustering Dendrogram\")\n",
    "plt.xlabel(\"Sample Index\")\n",
    "plt.ylabel(\"Distance\")\n",
    "plt.grid(True)\n",
    "plt.tight_layout()\n",
    "plt.show()"
   ]
  },
  {
   "cell_type": "code",
   "execution_count": 8,
   "id": "4b05338c",
   "metadata": {},
   "outputs": [
    {
     "name": "stderr",
     "output_type": "stream",
     "text": [
      "c:\\Users\\ahmed\\anaconda3\\Lib\\site-packages\\sklearn\\cluster\\_kmeans.py:1419: UserWarning:\n",
      "\n",
      "KMeans is known to have a memory leak on Windows with MKL, when there are less chunks than available threads. You can avoid it by setting the environment variable OMP_NUM_THREADS=1.\n",
      "\n"
     ]
    },
    {
     "name": "stdout",
     "output_type": "stream",
     "text": [
      "Clustering Accuracy: 0.689\n"
     ]
    },
    {
     "data": {
      "image/png": "[encoded data removed]",
      "text/plain": [
       "<Figure size 800x600 with 2 Axes>"
      ]
     },
     "metadata": {},
     "output_type": "display_data"
    }
   ],
   "source": [
    "import os\n",
    "import pandas as pd\n",
    "import numpy as np\n",
    "import matplotlib.pyplot as plt\n",
    "import seaborn as sns\n",
    "from sklearn.metrics import confusion_matrix, accuracy_score\n",
    "from sklearn.cluster import KMeans\n",
    "from scipy.optimize import linear_sum_assignment\n",
    "\n",
    "# Fix KMeans memory leak\n",
    "os.environ['OMP_NUM_THREADS'] = '1'\n",
    "\n",
    "# Load data\n",
    "df = pd.read_csv(\"../data/Trained_pca_heart.csv\")\n",
    "X = df[['PC1', 'PC2', 'PC3']]\n",
    "y_true = df['target']\n",
    "\n",
    "# Apply KMeans\n",
    "kmeans = KMeans(n_clusters=2, random_state=42, n_init=10)\n",
    "y_pred = kmeans.fit_predict(X)\n",
    "\n",
    "# Match labels\n",
    "def match_labels(y_true, y_pred):\n",
    "    matrix = confusion_matrix(y_true, y_pred)\n",
    "    row_ind, col_ind = linear_sum_assignment(-matrix)\n",
    "    new_labels = np.zeros_like(y_pred)\n",
    "    for i in range(len(col_ind)):\n",
    "        new_labels[y_pred == col_ind[i]] = row_ind[i]\n",
    "    return new_labels\n",
    "\n",
    "y_pred_matched = match_labels(y_true, y_pred)\n",
    "\n",
    "# Calculate accuracy\n",
    "accuracy = accuracy_score(y_true, y_pred_matched)\n",
    "print(f\"Clustering Accuracy: {accuracy:.3f}\")\n",
    "\n",
    "# Create confusion matrix\n",
    "cm = confusion_matrix(y_true, y_pred_matched)\n",
    "\n",
    "# Plot\n",
    "plt.figure(figsize=(8, 6))\n",
    "sns.heatmap(cm, annot=True, fmt='d', cmap='Blues',\n",
    "            xticklabels=['No Disease', 'Has Disease'],\n",
    "            yticklabels=['No Disease', 'Has Disease'])\n",
    "\n",
    "plt.title(f\"K-Means Clustering vs Actual Labels\\nAccuracy: {accuracy:.3f}\")\n",
    "plt.xlabel(\"True Label\")\n",
    "plt.ylabel(\"Predicted Label\")\n",
    "plt.tight_layout()\n",
    "plt.show()"
   ]
  },
  {
   "cell_type": "code",
   "execution_count": 9,
   "id": "f1b501a7",
   "metadata": {},
   "outputs": [
    {
     "name": "stderr",
     "output_type": "stream",
     "text": [
      "c:\\Users\\ahmed\\anaconda3\\Lib\\site-packages\\sklearn\\cluster\\_kmeans.py:1419: UserWarning:\n",
      "\n",
      "KMeans is known to have a memory leak on Windows with MKL, when there are less chunks than available threads. You can avoid it by setting the environment variable OMP_NUM_THREADS=1.\n",
      "\n"
     ]
    },
    {
     "name": "stdout",
     "output_type": "stream",
     "text": [
      "Clustering Accuracy: 0.739\n"
     ]
    },
    {
     "data": {
      "image/png": "[encoded data removed]",
      "text/plain": [
       "<Figure size 800x600 with 2 Axes>"
      ]
     },
     "metadata": {},
     "output_type": "display_data"
    }
   ],
   "source": [
    "import os\n",
    "import pandas as pd\n",
    "import numpy as np\n",
    "import matplotlib.pyplot as plt\n",
    "import seaborn as sns\n",
    "from sklearn.metrics import confusion_matrix, accuracy_score\n",
    "from sklearn.cluster import KMeans\n",
    "from scipy.optimize import linear_sum_assignment\n",
    "\n",
    "# Fix KMeans memory leak\n",
    "os.environ['OMP_NUM_THREADS'] = '1'\n",
    "\n",
    "# Load data\n",
    "df = pd.read_csv(\"../data/Trained_selected_features.csv\")\n",
    "X = df.drop('target', axis=1)\n",
    "y_true = df['target']\n",
    "\n",
    "# Apply KMeans\n",
    "kmeans = KMeans(n_clusters=2, random_state=42, n_init=10)\n",
    "y_pred = kmeans.fit_predict(X)\n",
    "\n",
    "# Match labels\n",
    "def match_labels(y_true, y_pred):\n",
    "    matrix = confusion_matrix(y_true, y_pred)\n",
    "    row_ind, col_ind = linear_sum_assignment(-matrix)\n",
    "    new_labels = np.zeros_like(y_pred)\n",
    "    for i in range(len(col_ind)):\n",
    "        new_labels[y_pred == col_ind[i]] = row_ind[i]\n",
    "    return new_labels\n",
    "\n",
    "y_pred_matched = match_labels(y_true, y_pred)\n",
    "\n",
    "# Calculate accuracy\n",
    "accuracy = accuracy_score(y_true, y_pred_matched)\n",
    "print(f\"Clustering Accuracy: {accuracy:.3f}\")\n",
    "\n",
    "# Create confusion matrix\n",
    "cm = confusion_matrix(y_true, y_pred_matched)\n",
    "\n",
    "# Plot\n",
    "plt.figure(figsize=(8, 6))\n",
    "sns.heatmap(cm, annot=True, fmt='d', cmap='Blues',\n",
    "            xticklabels=['No Disease', 'Has Disease'],\n",
    "            yticklabels=['No Disease', 'Has Disease'])\n",
    "\n",
    "plt.title(f\"K-Means Clustering vs Actual Labels\\nAccuracy: {accuracy:.3f}\")\n",
    "plt.xlabel(\"True Label\")\n",
    "plt.ylabel(\"Predicted Label\")\n",
    "plt.tight_layout()\n",
    "plt.show()"
   ]
  },
  {
   "cell_type": "code",
   "execution_count": 10,
   "id": "3569f905",
   "metadata": {},
   "outputs": [
    {
     "name": "stderr",
     "output_type": "stream",
     "text": [
      "c:\\Users\\ahmed\\anaconda3\\Lib\\site-packages\\sklearn\\cluster\\_kmeans.py:1419: UserWarning:\n",
      "\n",
      "KMeans is known to have a memory leak on Windows with MKL, when there are less chunks than available threads. You can avoid it by setting the environment variable OMP_NUM_THREADS=1.\n",
      "\n"
     ]
    },
    {
     "name": "stdout",
     "output_type": "stream",
     "text": [
      "Clustering Accuracy: 0.739\n"
     ]
    },
    {
     "data": {
      "image/png": "[encoded data removed]",
      "text/plain": [
       "<Figure size 800x600 with 2 Axes>"
      ]
     },
     "metadata": {},
     "output_type": "display_data"
    }
   ],
   "source": [
    "import os\n",
    "import pandas as pd\n",
    "import numpy as np\n",
    "import matplotlib.pyplot as plt\n",
    "import seaborn as sns\n",
    "from sklearn.metrics import confusion_matrix, accuracy_score\n",
    "from sklearn.cluster import KMeans\n",
    "from scipy.optimize import linear_sum_assignment\n",
    "\n",
    "# Fix KMeans memory leak\n",
    "os.environ['OMP_NUM_THREADS'] = '1'\n",
    "\n",
    "# Load data\n",
    "df = pd.read_csv(\"../data/Trained_Cleaned_heart_data.csv\")\n",
    "X = df.drop('target', axis=1)\n",
    "y_true = df['target']\n",
    "\n",
    "# Apply KMeans\n",
    "kmeans = KMeans(n_clusters=2, random_state=42, n_init=10)\n",
    "y_pred = kmeans.fit_predict(X)\n",
    "\n",
    "# Match labels\n",
    "def match_labels(y_true,  y_pred):\n",
    "    matrix = confusion_matrix(y_true, y_pred)\n",
    "    row_ind, col_ind = linear_sum_assignment(-matrix)\n",
    "    new_labels = np.zeros_like(y_pred)\n",
    "    for i in range(len(col_ind)):\n",
    "        new_labels[y_pred == col_ind[i]] = row_ind[i]\n",
    "    return new_labels\n",
    "\n",
    "y_pred_matched = match_labels(y_true, y_pred)\n",
    "\n",
    "# Calculate accuracy\n",
    "accuracy = accuracy_score(y_true, y_pred_matched)\n",
    "print(f\"Clustering Accuracy: {accuracy:.3f}\")\n",
    "\n",
    "# Create confusion matrix\n",
    "cm = confusion_matrix(y_true, y_pred_matched)\n",
    "\n",
    "# Plot\n",
    "plt.figure(figsize=(8, 6))\n",
    "sns.heatmap(cm, annot=True, fmt='d', cmap='Blues',\n",
    "            xticklabels=['No Disease', 'Has Disease'],\n",
    "            yticklabels=['No Disease', 'Has Disease'])\n",
    "\n",
    "plt.title(f\"K-Means Clustering vs Actual Labels\\nAccuracy: {accuracy:.3f}\")\n",
    "plt.xlabel(\"True Label\")\n",
    "plt.ylabel(\"Predicted Label\")\n",
    "plt.tight_layout()\n",
    "plt.show()"
   ]
  },
  {
   "cell_type": "markdown",
   "id": "8da094d9",
   "metadata": {},
   "source": []
  }
 ],
 "metadata": {
  "kernelspec": {
   "display_name": "base",
   "language": "python",
   "name": "python3"
  },
  "language_info": {
   "codemirror_mode": {
    "name": "ipython",
    "version": 3
   },
   "file_extension": ".py",
   "mimetype": "text/x-python",
   "name": "python",
   "nbconvert_exporter": "python",
   "pygments_lexer": "ipython3",
   "version": "3.12.4"
  }
 },
 "nbformat": 4,
 "nbformat_minor": 5
}
